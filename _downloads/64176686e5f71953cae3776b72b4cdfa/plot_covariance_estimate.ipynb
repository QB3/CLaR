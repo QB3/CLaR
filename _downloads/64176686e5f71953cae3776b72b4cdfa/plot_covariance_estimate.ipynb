{
  "cells": [
    {
      "cell_type": "code",
      "execution_count": null,
      "metadata": {
        "collapsed": false
      },
      "outputs": [],
      "source": [
        "%matplotlib inline"
      ]
    },
    {
      "cell_type": "markdown",
      "metadata": {},
      "source": [
        "\n# Plot an estimate of the covariance matrix with CLaR\n\n\nThe example runs CLaR on simulated data.\n"
      ]
    },
    {
      "cell_type": "code",
      "execution_count": null,
      "metadata": {
        "collapsed": false
      },
      "outputs": [],
      "source": [
        "import numpy as np\nimport matplotlib\n\nimport matplotlib.pyplot as plt\n\nfrom numpy.linalg import norm\n\nfrom clar.solvers import solver\nfrom clar.utils import get_alpha_max_me, get_sigma_min, get_alpha_max\nfrom clar.data.artificial import get_data_me\nfrom clar.utils import get_sigma_min, get_alpha_max\n\n\nrho_noise = 0.3\nSNR = 0.5\nn_channels = 20\nn_times = 30\nn_sources = 10\nn_epochs = 50\nn_active = 3\ngap_freq = 50\nupdate_S_freq = 10\nn_iter = 10**4\ntol = 1e-7\n\n\nX, all_epochs, B_star, S_star = get_data_me(\n    dictionary_type=\"Gaussian\", noise_type=\"Gaussian_multivariate\",\n    n_epochs=n_epochs, n_channels=n_channels, n_times=n_times,\n    n_sources=n_sources, n_active=n_active, rho_noise=rho_noise,\n    SNR=SNR)\nS_star = S_star[-1]\n\nY = np.mean(all_epochs, axis=0)\nsigma_min = get_sigma_min(Y)\n\n\nalpha_max = get_alpha_max_me(X, all_epochs, sigma_min)\nalpha = alpha_max / 5\n\nprint(\"alpha = %.2e\" % alpha)\nprint(\"sigma_min = %.2e\" % sigma_min)\nB_clar, S_inv, E, gaps_me = solver(\n    X, all_epochs, alpha, alpha_max, sigma_min, B0=None,\n    n_iter=n_iter, gap_freq=50,\n    S_freq=update_S_freq, tol=tol, pb_name=\"CLAR\")\ngap_me = gaps_me[-1]\nassert gap_me < tol\n\ntry:\n    matplotlib.rcParams[\"text.usetex\"] = True\nexcept:\n    pass\n\nfig, axarr = plt.subplots(1, 2)\nS = np.linalg.inv(S_inv)\nlabels = [r\"$S^*$\", r\"$\\hat S^{\\mathrm{CLaR}}$\"]\nfor ax, S, label in zip(axarr, [S_star, S], labels):\n    ax.imshow(S)\n    ax.grid(True)\n    ax.set_xticks([])\n    ax.set_yticks([])\n    ax.set_title(label)\nplt.show(block=False)\n\n\nsupp = np.where(B_clar.any(axis=1))[0]\ntrue_supp = np.where(B_star.any(axis=1))[0]\n\n\nTP = len(np.intersect1d(supp, true_supp))\nFP = len(supp) - TP\n\nprint(\"TP: %d\" % TP)\nprint(\"FP: %d\" % TP)"
      ]
    }
  ],
  "metadata": {
    "kernelspec": {
      "display_name": "Python 3",
      "language": "python",
      "name": "python3"
    },
    "language_info": {
      "codemirror_mode": {
        "name": "ipython",
        "version": 3
      },
      "file_extension": ".py",
      "mimetype": "text/x-python",
      "name": "python",
      "nbconvert_exporter": "python",
      "pygments_lexer": "ipython3",
      "version": "3.7.4"
    }
  },
  "nbformat": 4,
  "nbformat_minor": 0
}